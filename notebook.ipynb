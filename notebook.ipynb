{
 "cells": [
  {
   "cell_type": "code",
   "execution_count": 1,
   "metadata": {},
   "outputs": [
    {
     "data": {
      "text/plain": [
       "'\\ndef default_steam():\\n    steam.drop(\\'Unnamed: 0\\', inplace=True, axis=1)\\n    steam = steam.sort_values(\"app_id\")\\n\\ndef letters_count_update():\\n    steam[\\'letters_count\\'] = steam[\\'review_text\\'].apply(lambda x: len(x))\\n\\ndef comment_filter():\\n    steam = steam[steam[\\'letters_count\\'] > 10]\\n    steam = steam[(steam[\\'letters_count\\'] >= 25) | (steam[\\'review_votes\\'] == 1)]\\n    steam = steam.sort_values(\\'letters_count\\')\\n\\ndef minus_to_1():\\n    for i in steam.index:\\n        if steam.loc[i, \"review_score\"] == -1:\\n            steam.loc[i, \"review_score\"] = 0\\n'"
      ]
     },
     "execution_count": 1,
     "metadata": {},
     "output_type": "execute_result"
    }
   ],
   "source": [
    "# PY libraries\n",
    "import pandas as pd\n",
    "import re\n",
    "import nltk\n",
    "\n",
    "# basic funcs\n",
    "\"\"\"\n",
    "def default_steam():\n",
    "    steam.drop('Unnamed: 0', inplace=True, axis=1)\n",
    "    steam = steam.sort_values(\"app_id\")\n",
    "\n",
    "def letters_count_update():\n",
    "    steam['letters_count'] = steam['review_text'].apply(lambda x: len(x))\n",
    "\n",
    "def comment_filter():\n",
    "    steam = steam[steam['letters_count'] > 10]\n",
    "    steam = steam[(steam['letters_count'] >= 25) | (steam['review_votes'] == 1)]\n",
    "    steam = steam.sort_values('letters_count')\n",
    "\n",
    "def minus_to_1():\n",
    "    for i in steam.index:\n",
    "        if steam.loc[i, \"review_score\"] == -1:\n",
    "            steam.loc[i, \"review_score\"] = 0\n",
    "\"\"\""
   ]
  },
  {
   "cell_type": "code",
   "execution_count": null,
   "metadata": {},
   "outputs": [],
   "source": [
    "# NULLS TYPES LETTERS_COUNT COMMENT_FILTER\n",
    "steam = pd.read_csv(r'SteamReviews.csv')\n",
    "\n",
    "# int type\n",
    "# print(steam.isnull().sum(axis = 0))\n",
    "steam = steam.astype({'app_id':'int', 'review_score':'int', 'review_votes':'int'})\n",
    "\n",
    "# NULL\n",
    "steam.dropna(inplace = True)\n",
    "\n",
    "# -1 to 0\n",
    "for i in steam.index:\n",
    "        if steam.loc[i, \"review_score\"] == -1:\n",
    "            steam.loc[i, \"review_score\"] = 0\n",
    "\n",
    "# letters counts column\n",
    "steam['letters_count'] = steam['review_text'].apply(lambda x: len(x))\n",
    "\n",
    "# comments\n",
    "steam = steam[steam['letters_count'] > 10]\n",
    "steam = steam[(steam['letters_count'] >= 25) | (steam['review_votes'] == 1)]\n",
    "steam = steam.sort_values('letters_count')"
   ]
  },
  {
   "cell_type": "code",
   "execution_count": null,
   "metadata": {},
   "outputs": [],
   "source": [
    "### LOAD FILE_1\n",
    "# steam.to_csv('steam1.csv')\n",
    "steam = pd.read_csv(r'steam1.csv')\n",
    "steam.drop('Unnamed: 0', inplace=True, axis=1)\n",
    "steam = steam.sort_values(\"app_id\")\n",
    "steam.head()"
   ]
  },
  {
   "cell_type": "code",
   "execution_count": null,
   "metadata": {},
   "outputs": [],
   "source": [
    "# LOWER REGEX COMMENT_FILTER\n",
    "def cleanSymbols(text):\n",
    "    res = re.sub(r\"[^a-zA-Z\\s]+\", \"\", text)\n",
    "    return res\n",
    "\n",
    "def cleanLinks(text):\n",
    "    res = re.sub(r\"http\\s+\", \"\", text)\n",
    "    res = re.sub(\"w+://s+\", \"\", res)\n",
    "    return res\n",
    "steam['review_text'] = steam['review_text'].astype(str).str.lower()\n",
    "steam['review_text'] = steam['review_text'].apply(cleanLinks)\n",
    "steam['review_text'] = steam['review_text'].apply(cleanSymbols)\n",
    "\n",
    "# UPDATE LETTERS_COUNT & DELETE COMMENTS\n",
    "steam['letters_count'] = steam['review_text'].apply(lambda x: len(x))\n",
    "steam = steam.sort_values('letters_count')\n",
    "steam = steam[steam['letters_count'] > 10]\n",
    "steam = steam[(steam['letters_count'] >= 25) | (steam['review_votes'] == 1)]\n",
    "steam = steam.sort_values('letters_count')"
   ]
  },
  {
   "cell_type": "code",
   "execution_count": null,
   "metadata": {},
   "outputs": [],
   "source": [
    "### LOAD FILE_2 4988035\n",
    "# steam.to_csv('steam2.csv')\n",
    "steam = pd.read_csv(r'steam2.csv')\n",
    "steam.drop('Unnamed: 0', inplace=True, axis=1)\n",
    "steam = steam.sort_values(\"app_id\")\n",
    "steam.head()"
   ]
  },
  {
   "cell_type": "code",
   "execution_count": null,
   "metadata": {},
   "outputs": [],
   "source": [
    "# TOKENS\n",
    "def delete_long_and_tokenize(text):\n",
    "    res = [w for w in text.split() if len(w) < 20]\n",
    "    if len(res) <= 3:\n",
    "        res = ''\n",
    "    return res\n",
    "steam[\"tokens\"] = steam[\"review_text\"].apply(lambda x: delete_long_and_tokenize(x))\n",
    "steam = steam[steam['tokens'].str.len() > 0]"
   ]
  },
  {
   "cell_type": "code",
   "execution_count": null,
   "metadata": {},
   "outputs": [],
   "source": [
    "### LOAD FILE_3 TOKENIZED 4787150\n",
    "# steam.to_csv('steam3.csv')\n",
    "steam = pd.read_csv(r'steam3.csv')\n",
    "steam.drop('Unnamed: 0', inplace=True, axis=1)\n",
    "steam = steam.sort_values(\"app_id\")\n",
    "steam.head()"
   ]
  },
  {
   "cell_type": "code",
   "execution_count": null,
   "metadata": {},
   "outputs": [],
   "source": [
    "# STOPWORDS\n",
    "# nltk.download('stopwords')\n",
    "SW = list(nltk.corpus.stopwords.words(\"english\"))\n",
    "for i in range(len(SW)):\n",
    "    SW[i] = re.sub(r\"[^a-zA-Z]+\", '', SW[i])\n",
    "stop_words = set(SW)\n",
    "\n",
    "def stopwords_cleaner(text):\n",
    "    text = str(text)[2:-2]\n",
    "    text = text.split(\"', '\")\n",
    "    res = [w for w in text if w not in stop_words]\n",
    "    if len(res) <= 4:\n",
    "        return ''\n",
    "    return ' '.join(res)\n",
    "steam['tokens'] = steam['tokens'].apply(stopwords_cleaner)\n",
    "steam = steam[steam['tokens'].str.len() > 0]\n",
    "\n",
    "steam.head()"
   ]
  },
  {
   "cell_type": "code",
   "execution_count": null,
   "metadata": {},
   "outputs": [],
   "source": [
    "### LOAD FILE_4 STOPWORDS 4333260\n",
    "# steam.to_csv('steam4.csv')\n",
    "steam = pd.read_csv(r'steam4.csv')\n",
    "steam.drop('Unnamed: 0', inplace=True, axis=1)\n",
    "steam = steam.sort_values(\"app_id\")\n",
    "steam.head()"
   ]
  },
  {
   "cell_type": "code",
   "execution_count": null,
   "metadata": {},
   "outputs": [],
   "source": [
    "### LOAD FILE_SMALL 20520\n",
    "# steam = steam[steam['app_id'] <= 20520]\n",
    "# steam.to_csv('small_steam.csv')\n",
    "steam = pd.read_csv(r'small_steam.csv')\n",
    "steam.drop('Unnamed: 0', inplace=True, axis=1)\n",
    "steam = steam.sort_values(\"app_id\")\n",
    "steam.head()"
   ]
  },
  {
   "cell_type": "code",
   "execution_count": 38,
   "metadata": {},
   "outputs": [
    {
     "data": {
      "text/html": [
       "<div>\n",
       "<style scoped>\n",
       "    .dataframe tbody tr th:only-of-type {\n",
       "        vertical-align: middle;\n",
       "    }\n",
       "\n",
       "    .dataframe tbody tr th {\n",
       "        vertical-align: top;\n",
       "    }\n",
       "\n",
       "    .dataframe thead th {\n",
       "        text-align: right;\n",
       "    }\n",
       "</style>\n",
       "<table border=\"1\" class=\"dataframe\">\n",
       "  <thead>\n",
       "    <tr style=\"text-align: right;\">\n",
       "      <th></th>\n",
       "      <th>app_id</th>\n",
       "      <th>app_name</th>\n",
       "      <th>review_text</th>\n",
       "      <th>review_score</th>\n",
       "      <th>review_votes</th>\n",
       "      <th>letters_count</th>\n",
       "      <th>tokens</th>\n",
       "    </tr>\n",
       "  </thead>\n",
       "  <tbody>\n",
       "    <tr>\n",
       "      <th>0</th>\n",
       "      <td>10</td>\n",
       "      <td>Counter-Strike</td>\n",
       "      <td>best shooter ever buy it or regret it</td>\n",
       "      <td>1</td>\n",
       "      <td>0</td>\n",
       "      <td>37</td>\n",
       "      <td>[best, shooter, ever, buy, regret]</td>\n",
       "    </tr>\n",
       "    <tr>\n",
       "      <th>3671</th>\n",
       "      <td>10</td>\n",
       "      <td>Counter-Strike</td>\n",
       "      <td>best online gungameno words to describe how gu...</td>\n",
       "      <td>1</td>\n",
       "      <td>0</td>\n",
       "      <td>101</td>\n",
       "      <td>[best, online, gungameno, word, describe, gud,...</td>\n",
       "    </tr>\n",
       "    <tr>\n",
       "      <th>3670</th>\n",
       "      <td>10</td>\n",
       "      <td>Counter-Strike</td>\n",
       "      <td>best online gungameno words to describe how gu...</td>\n",
       "      <td>1</td>\n",
       "      <td>0</td>\n",
       "      <td>101</td>\n",
       "      <td>[best, online, gungameno, word, describe, gud,...</td>\n",
       "    </tr>\n",
       "    <tr>\n",
       "      <th>3669</th>\n",
       "      <td>10</td>\n",
       "      <td>Counter-Strike</td>\n",
       "      <td>pros no microtransactions fun original game ...</td>\n",
       "      <td>1</td>\n",
       "      <td>0</td>\n",
       "      <td>141</td>\n",
       "      <td>[pro, microtransactions, fun, original, game, ...</td>\n",
       "    </tr>\n",
       "    <tr>\n",
       "      <th>3668</th>\n",
       "      <td>10</td>\n",
       "      <td>Counter-Strike</td>\n",
       "      <td>such game much love many sweat</td>\n",
       "      <td>1</td>\n",
       "      <td>1</td>\n",
       "      <td>30</td>\n",
       "      <td>[game, much, love, many, sweat]</td>\n",
       "    </tr>\n",
       "  </tbody>\n",
       "</table>\n",
       "</div>"
      ],
      "text/plain": [
       "      app_id        app_name  \\\n",
       "0         10  Counter-Strike   \n",
       "3671      10  Counter-Strike   \n",
       "3670      10  Counter-Strike   \n",
       "3669      10  Counter-Strike   \n",
       "3668      10  Counter-Strike   \n",
       "\n",
       "                                            review_text  review_score  \\\n",
       "0                 best shooter ever buy it or regret it             1   \n",
       "3671  best online gungameno words to describe how gu...             1   \n",
       "3670  best online gungameno words to describe how gu...             1   \n",
       "3669    pros no microtransactions fun original game ...             1   \n",
       "3668                     such game much love many sweat             1   \n",
       "\n",
       "      review_votes  letters_count  \\\n",
       "0                0             37   \n",
       "3671             0            101   \n",
       "3670             0            101   \n",
       "3669             0            141   \n",
       "3668             1             30   \n",
       "\n",
       "                                                 tokens  \n",
       "0                    [best, shooter, ever, buy, regret]  \n",
       "3671  [best, online, gungameno, word, describe, gud,...  \n",
       "3670  [best, online, gungameno, word, describe, gud,...  \n",
       "3669  [pro, microtransactions, fun, original, game, ...  \n",
       "3668                    [game, much, love, many, sweat]  "
      ]
     },
     "execution_count": 38,
     "metadata": {},
     "output_type": "execute_result"
    }
   ],
   "source": [
    "# LEMMAS\n",
    "#nltk.download('wordnet')\n",
    "#nltk.download('omw-1.4')\n",
    "from nltk.stem.wordnet import WordNetLemmatizer\n",
    "from nltk.tokenize import word_tokenize\n",
    "from nltk.corpus import wordnet\n",
    "from nltk import pos_tag\n",
    "\n",
    "def get_pos(word):\n",
    "    tag = nltk.pos_tag([word])[0][1][0].upper()  # 1st word -> tag -> 1st letter\n",
    "    tags = {\"N\": wordnet.NOUN,\n",
    "                \"J\": wordnet.ADJ,\n",
    "                \"V\": wordnet.VERB,\n",
    "                \"R\": wordnet.ADV}\n",
    "    return tags.get(tag, wordnet.NOUN)\n",
    "\n",
    "lem = WordNetLemmatizer()\n",
    "def lem_text(text):\n",
    "    newL = []\n",
    "    for w in nltk.word_tokenize(text):\n",
    "        ne = lem.lemmatize(w, get_pos(w)) \n",
    "        newL.append(ne)\n",
    "    return newL\n",
    "steam['tokens'] = steam[\"tokens\"].apply(lem_text)\n",
    "#steam['lemmas'] = steam[\"tokens\"].apply(lem_text)\n",
    "steam.head()"
   ]
  },
  {
   "cell_type": "code",
   "execution_count": null,
   "metadata": {},
   "outputs": [],
   "source": [
    "# TOKENS_COUNT\n",
    "def list_to_text(text):\n",
    "    text = str(text)[2:-2].split(\"', '\")\n",
    "    return ' '.join(text)\n",
    "# steam['tokens'] = steam['tokens'].apply(list_to_text)\n",
    "steam['tokens_count'] = steam['tokens'].apply(lambda x: len(str(x).split()))\n",
    "steam.head()"
   ]
  },
  {
   "cell_type": "code",
   "execution_count": 88,
   "metadata": {},
   "outputs": [
    {
     "data": {
      "text/html": [
       "<div>\n",
       "<style scoped>\n",
       "    .dataframe tbody tr th:only-of-type {\n",
       "        vertical-align: middle;\n",
       "    }\n",
       "\n",
       "    .dataframe tbody tr th {\n",
       "        vertical-align: top;\n",
       "    }\n",
       "\n",
       "    .dataframe thead th {\n",
       "        text-align: right;\n",
       "    }\n",
       "</style>\n",
       "<table border=\"1\" class=\"dataframe\">\n",
       "  <thead>\n",
       "    <tr style=\"text-align: right;\">\n",
       "      <th></th>\n",
       "      <th>app_id</th>\n",
       "      <th>app_name</th>\n",
       "      <th>review_text</th>\n",
       "      <th>review_score</th>\n",
       "      <th>review_votes</th>\n",
       "      <th>letters_count</th>\n",
       "      <th>tokens</th>\n",
       "      <th>tokens_count</th>\n",
       "    </tr>\n",
       "  </thead>\n",
       "  <tbody>\n",
       "    <tr>\n",
       "      <th>0</th>\n",
       "      <td>10</td>\n",
       "      <td>Counter-Strike</td>\n",
       "      <td>best shooter ever buy it or regret it</td>\n",
       "      <td>1</td>\n",
       "      <td>0</td>\n",
       "      <td>37</td>\n",
       "      <td>best shooter ever buy regret</td>\n",
       "      <td>5</td>\n",
       "    </tr>\n",
       "    <tr>\n",
       "      <th>3671</th>\n",
       "      <td>10</td>\n",
       "      <td>Counter-Strike</td>\n",
       "      <td>i think every huge counter strike fan should o...</td>\n",
       "      <td>1</td>\n",
       "      <td>0</td>\n",
       "      <td>144</td>\n",
       "      <td>think every huge counter strike fan game begin...</td>\n",
       "      <td>15</td>\n",
       "    </tr>\n",
       "    <tr>\n",
       "      <th>3670</th>\n",
       "      <td>10</td>\n",
       "      <td>Counter-Strike</td>\n",
       "      <td>i like this game playing since i was  played a...</td>\n",
       "      <td>1</td>\n",
       "      <td>0</td>\n",
       "      <td>101</td>\n",
       "      <td>like game play since played lot fine graphic s...</td>\n",
       "      <td>12</td>\n",
       "    </tr>\n",
       "    <tr>\n",
       "      <th>3669</th>\n",
       "      <td>10</td>\n",
       "      <td>Counter-Strike</td>\n",
       "      <td>best online gungameno words to describe how gu...</td>\n",
       "      <td>1</td>\n",
       "      <td>0</td>\n",
       "      <td>101</td>\n",
       "      <td>best online gungameno word describe gud wil si...</td>\n",
       "      <td>12</td>\n",
       "    </tr>\n",
       "    <tr>\n",
       "      <th>3668</th>\n",
       "      <td>10</td>\n",
       "      <td>Counter-Strike</td>\n",
       "      <td>best online gungameno words to describe how gu...</td>\n",
       "      <td>1</td>\n",
       "      <td>0</td>\n",
       "      <td>101</td>\n",
       "      <td>best online gungameno word describe gud wil si...</td>\n",
       "      <td>12</td>\n",
       "    </tr>\n",
       "  </tbody>\n",
       "</table>\n",
       "</div>"
      ],
      "text/plain": [
       "      app_id        app_name  \\\n",
       "0         10  Counter-Strike   \n",
       "3671      10  Counter-Strike   \n",
       "3670      10  Counter-Strike   \n",
       "3669      10  Counter-Strike   \n",
       "3668      10  Counter-Strike   \n",
       "\n",
       "                                            review_text  review_score  \\\n",
       "0                 best shooter ever buy it or regret it             1   \n",
       "3671  i think every huge counter strike fan should o...             1   \n",
       "3670  i like this game playing since i was  played a...             1   \n",
       "3669  best online gungameno words to describe how gu...             1   \n",
       "3668  best online gungameno words to describe how gu...             1   \n",
       "\n",
       "      review_votes  letters_count  \\\n",
       "0                0             37   \n",
       "3671             0            144   \n",
       "3670             0            101   \n",
       "3669             0            101   \n",
       "3668             0            101   \n",
       "\n",
       "                                                 tokens  tokens_count  \n",
       "0                          best shooter ever buy regret             5  \n",
       "3671  think every huge counter strike fan game begin...            15  \n",
       "3670  like game play since played lot fine graphic s...            12  \n",
       "3669  best online gungameno word describe gud wil si...            12  \n",
       "3668  best online gungameno word describe gud wil si...            12  "
      ]
     },
     "execution_count": 88,
     "metadata": {},
     "output_type": "execute_result"
    }
   ],
   "source": [
    "### LOAD FILE_SMALL_LEMMED\n",
    "# steam.to_csv('small_steam_lemmed.csv')\n",
    "steam = pd.read_csv(r'small_steam_lemmed.csv')\n",
    "steam.drop('Unnamed: 0', inplace=True, axis=1)\n",
    "steam = steam.sort_values(\"app_id\")\n",
    "steam.head()"
   ]
  },
  {
   "cell_type": "code",
   "execution_count": 89,
   "metadata": {},
   "outputs": [],
   "source": [
    "# NEW COLUMN - TEXT_SIZE\n",
    "import numpy as np\n",
    "tbins  = np.linspace(min(steam['tokens_count']), max(steam['tokens_count']), 4)\n",
    "steam['text_size'] = pd.cut(steam['tokens_count'], tbins, labels=['Little', 'Medium', 'Big'], include_lowest=True)"
   ]
  },
  {
   "cell_type": "code",
   "execution_count": 94,
   "metadata": {},
   "outputs": [
    {
     "data": {
      "text/html": [
       "<div>\n",
       "<style scoped>\n",
       "    .dataframe tbody tr th:only-of-type {\n",
       "        vertical-align: middle;\n",
       "    }\n",
       "\n",
       "    .dataframe tbody tr th {\n",
       "        vertical-align: top;\n",
       "    }\n",
       "\n",
       "    .dataframe thead th {\n",
       "        text-align: right;\n",
       "    }\n",
       "</style>\n",
       "<table border=\"1\" class=\"dataframe\">\n",
       "  <thead>\n",
       "    <tr style=\"text-align: right;\">\n",
       "      <th></th>\n",
       "      <th>app_id</th>\n",
       "      <th>app_name</th>\n",
       "      <th>review_text</th>\n",
       "      <th>review_score</th>\n",
       "      <th>review_votes</th>\n",
       "      <th>letters_count</th>\n",
       "      <th>tokens</th>\n",
       "      <th>tokens_count</th>\n",
       "      <th>text_size</th>\n",
       "      <th>polarity</th>\n",
       "      <th>compound</th>\n",
       "    </tr>\n",
       "  </thead>\n",
       "  <tbody>\n",
       "    <tr>\n",
       "      <th>0</th>\n",
       "      <td>10</td>\n",
       "      <td>Counter-Strike</td>\n",
       "      <td>best shooter ever buy it or regret it</td>\n",
       "      <td>1</td>\n",
       "      <td>0</td>\n",
       "      <td>37</td>\n",
       "      <td>best shooter ever buy regret</td>\n",
       "      <td>5</td>\n",
       "      <td>Little</td>\n",
       "      <td>{'neg': 0.215, 'neu': 0.462, 'pos': 0.323, 'co...</td>\n",
       "      <td>0.3400</td>\n",
       "    </tr>\n",
       "    <tr>\n",
       "      <th>3671</th>\n",
       "      <td>10</td>\n",
       "      <td>Counter-Strike</td>\n",
       "      <td>i think every huge counter strike fan should o...</td>\n",
       "      <td>1</td>\n",
       "      <td>0</td>\n",
       "      <td>144</td>\n",
       "      <td>think every huge counter strike fan game begin...</td>\n",
       "      <td>15</td>\n",
       "      <td>Little</td>\n",
       "      <td>{'neg': 0.049, 'neu': 0.724, 'pos': 0.227, 'co...</td>\n",
       "      <td>0.6597</td>\n",
       "    </tr>\n",
       "    <tr>\n",
       "      <th>3670</th>\n",
       "      <td>10</td>\n",
       "      <td>Counter-Strike</td>\n",
       "      <td>i like this game playing since i was  played a...</td>\n",
       "      <td>1</td>\n",
       "      <td>0</td>\n",
       "      <td>101</td>\n",
       "      <td>like game play since played lot fine graphic s...</td>\n",
       "      <td>12</td>\n",
       "      <td>Little</td>\n",
       "      <td>{'neg': 0.093, 'neu': 0.549, 'pos': 0.359, 'co...</td>\n",
       "      <td>0.6486</td>\n",
       "    </tr>\n",
       "    <tr>\n",
       "      <th>3669</th>\n",
       "      <td>10</td>\n",
       "      <td>Counter-Strike</td>\n",
       "      <td>best online gungameno words to describe how gu...</td>\n",
       "      <td>1</td>\n",
       "      <td>0</td>\n",
       "      <td>101</td>\n",
       "      <td>best online gungameno word describe gud wil si...</td>\n",
       "      <td>12</td>\n",
       "      <td>Little</td>\n",
       "      <td>{'neg': 0.0, 'neu': 0.732, 'pos': 0.268, 'comp...</td>\n",
       "      <td>0.7650</td>\n",
       "    </tr>\n",
       "    <tr>\n",
       "      <th>3668</th>\n",
       "      <td>10</td>\n",
       "      <td>Counter-Strike</td>\n",
       "      <td>best online gungameno words to describe how gu...</td>\n",
       "      <td>1</td>\n",
       "      <td>0</td>\n",
       "      <td>101</td>\n",
       "      <td>best online gungameno word describe gud wil si...</td>\n",
       "      <td>12</td>\n",
       "      <td>Little</td>\n",
       "      <td>{'neg': 0.0, 'neu': 0.732, 'pos': 0.268, 'comp...</td>\n",
       "      <td>0.7650</td>\n",
       "    </tr>\n",
       "  </tbody>\n",
       "</table>\n",
       "</div>"
      ],
      "text/plain": [
       "      app_id        app_name  \\\n",
       "0         10  Counter-Strike   \n",
       "3671      10  Counter-Strike   \n",
       "3670      10  Counter-Strike   \n",
       "3669      10  Counter-Strike   \n",
       "3668      10  Counter-Strike   \n",
       "\n",
       "                                            review_text  review_score  \\\n",
       "0                 best shooter ever buy it or regret it             1   \n",
       "3671  i think every huge counter strike fan should o...             1   \n",
       "3670  i like this game playing since i was  played a...             1   \n",
       "3669  best online gungameno words to describe how gu...             1   \n",
       "3668  best online gungameno words to describe how gu...             1   \n",
       "\n",
       "      review_votes  letters_count  \\\n",
       "0                0             37   \n",
       "3671             0            144   \n",
       "3670             0            101   \n",
       "3669             0            101   \n",
       "3668             0            101   \n",
       "\n",
       "                                                 tokens  tokens_count  \\\n",
       "0                          best shooter ever buy regret             5   \n",
       "3671  think every huge counter strike fan game begin...            15   \n",
       "3670  like game play since played lot fine graphic s...            12   \n",
       "3669  best online gungameno word describe gud wil si...            12   \n",
       "3668  best online gungameno word describe gud wil si...            12   \n",
       "\n",
       "     text_size                                           polarity  compound  \n",
       "0       Little  {'neg': 0.215, 'neu': 0.462, 'pos': 0.323, 'co...    0.3400  \n",
       "3671    Little  {'neg': 0.049, 'neu': 0.724, 'pos': 0.227, 'co...    0.6597  \n",
       "3670    Little  {'neg': 0.093, 'neu': 0.549, 'pos': 0.359, 'co...    0.6486  \n",
       "3669    Little  {'neg': 0.0, 'neu': 0.732, 'pos': 0.268, 'comp...    0.7650  \n",
       "3668    Little  {'neg': 0.0, 'neu': 0.732, 'pos': 0.268, 'comp...    0.7650  "
      ]
     },
     "execution_count": 94,
     "metadata": {},
     "output_type": "execute_result"
    }
   ],
   "source": [
    "# POLARITY\n",
    "nltk.download('vader_lexicon')\n",
    "from nltk.sentiment import SentimentIntensityAnalyzer\n",
    "\n",
    "analyser = SentimentIntensityAnalyzer()\n",
    "steam['polarity'] = steam['review_text'].apply(lambda x: analyser.polarity_scores(x))\n",
    "steam['compound']  = steam['polarity'].apply(lambda pol: pol['compound'])"
   ]
  },
  {
   "cell_type": "code",
   "execution_count": 107,
   "metadata": {},
   "outputs": [
    {
     "data": {
      "text/html": [
       "<div>\n",
       "<style scoped>\n",
       "    .dataframe tbody tr th:only-of-type {\n",
       "        vertical-align: middle;\n",
       "    }\n",
       "\n",
       "    .dataframe tbody tr th {\n",
       "        vertical-align: top;\n",
       "    }\n",
       "\n",
       "    .dataframe thead th {\n",
       "        text-align: right;\n",
       "    }\n",
       "</style>\n",
       "<table border=\"1\" class=\"dataframe\">\n",
       "  <thead>\n",
       "    <tr style=\"text-align: right;\">\n",
       "      <th></th>\n",
       "      <th>app_id</th>\n",
       "      <th>app_name</th>\n",
       "      <th>review_text</th>\n",
       "      <th>review_score</th>\n",
       "      <th>review_votes</th>\n",
       "      <th>letters_count</th>\n",
       "      <th>tokens</th>\n",
       "      <th>tokens_count</th>\n",
       "      <th>text_size</th>\n",
       "      <th>polarity</th>\n",
       "      <th>compound</th>\n",
       "      <th>sentiment</th>\n",
       "    </tr>\n",
       "  </thead>\n",
       "  <tbody>\n",
       "    <tr>\n",
       "      <th>328028</th>\n",
       "      <td>8500</td>\n",
       "      <td>EVE Online</td>\n",
       "      <td>when i first logged in to eve online i was exc...</td>\n",
       "      <td>1</td>\n",
       "      <td>1</td>\n",
       "      <td>2281</td>\n",
       "      <td>first log eve online excite join player driven...</td>\n",
       "      <td>214</td>\n",
       "      <td>Little</td>\n",
       "      <td>{'neg': 0.055, 'neu': 0.794, 'pos': 0.151, 'co...</td>\n",
       "      <td>1.0000</td>\n",
       "      <td>Pos</td>\n",
       "    </tr>\n",
       "    <tr>\n",
       "      <th>155906</th>\n",
       "      <td>620</td>\n",
       "      <td>Portal 2</td>\n",
       "      <td>this game is way too hard  i thought this woul...</td>\n",
       "      <td>0</td>\n",
       "      <td>1</td>\n",
       "      <td>82</td>\n",
       "      <td>game way hard thought would fps game boring pu...</td>\n",
       "      <td>9</td>\n",
       "      <td>Little</td>\n",
       "      <td>{'neg': 0.222, 'neu': 0.778, 'pos': 0.0, 'comp...</td>\n",
       "      <td>-0.9019</td>\n",
       "      <td>Neg</td>\n",
       "    </tr>\n",
       "    <tr>\n",
       "      <th>313874</th>\n",
       "      <td>8170</td>\n",
       "      <td>Battlestations: Pacific</td>\n",
       "      <td>i played this game on my xbox when i was young...</td>\n",
       "      <td>0</td>\n",
       "      <td>0</td>\n",
       "      <td>168</td>\n",
       "      <td>played game xbox young get want deal microsoft...</td>\n",
       "      <td>15</td>\n",
       "      <td>Little</td>\n",
       "      <td>{'neg': 0.112, 'neu': 0.696, 'pos': 0.191, 'co...</td>\n",
       "      <td>-0.2000</td>\n",
       "      <td>Neu</td>\n",
       "    </tr>\n",
       "    <tr>\n",
       "      <th>255143</th>\n",
       "      <td>4000</td>\n",
       "      <td>Garry's Mod</td>\n",
       "      <td>now this is the real sandbox you can make pret...</td>\n",
       "      <td>1</td>\n",
       "      <td>0</td>\n",
       "      <td>71</td>\n",
       "      <td>real sandbox make pretty much anything want</td>\n",
       "      <td>7</td>\n",
       "      <td>Little</td>\n",
       "      <td>{'neg': 0.0, 'neu': 0.727, 'pos': 0.273, 'comp...</td>\n",
       "      <td>0.6423</td>\n",
       "      <td>Pos</td>\n",
       "    </tr>\n",
       "    <tr>\n",
       "      <th>130154</th>\n",
       "      <td>570</td>\n",
       "      <td>Dota 2</td>\n",
       "      <td>life of a support  but i still love the game</td>\n",
       "      <td>1</td>\n",
       "      <td>0</td>\n",
       "      <td>45</td>\n",
       "      <td>life support still love game</td>\n",
       "      <td>5</td>\n",
       "      <td>Little</td>\n",
       "      <td>{'neg': 0.0, 'neu': 0.44, 'pos': 0.56, 'compou...</td>\n",
       "      <td>0.9248</td>\n",
       "      <td>Pos</td>\n",
       "    </tr>\n",
       "  </tbody>\n",
       "</table>\n",
       "</div>"
      ],
      "text/plain": [
       "        app_id                 app_name  \\\n",
       "328028    8500               EVE Online   \n",
       "155906     620                 Portal 2   \n",
       "313874    8170  Battlestations: Pacific   \n",
       "255143    4000              Garry's Mod   \n",
       "130154     570                   Dota 2   \n",
       "\n",
       "                                              review_text  review_score  \\\n",
       "328028  when i first logged in to eve online i was exc...             1   \n",
       "155906  this game is way too hard  i thought this woul...             0   \n",
       "313874  i played this game on my xbox when i was young...             0   \n",
       "255143  now this is the real sandbox you can make pret...             1   \n",
       "130154      life of a support  but i still love the game              1   \n",
       "\n",
       "        review_votes  letters_count  \\\n",
       "328028             1           2281   \n",
       "155906             1             82   \n",
       "313874             0            168   \n",
       "255143             0             71   \n",
       "130154             0             45   \n",
       "\n",
       "                                                   tokens  tokens_count  \\\n",
       "328028  first log eve online excite join player driven...           214   \n",
       "155906  game way hard thought would fps game boring pu...             9   \n",
       "313874  played game xbox young get want deal microsoft...            15   \n",
       "255143        real sandbox make pretty much anything want             7   \n",
       "130154                       life support still love game             5   \n",
       "\n",
       "       text_size                                           polarity  compound  \\\n",
       "328028    Little  {'neg': 0.055, 'neu': 0.794, 'pos': 0.151, 'co...    1.0000   \n",
       "155906    Little  {'neg': 0.222, 'neu': 0.778, 'pos': 0.0, 'comp...   -0.9019   \n",
       "313874    Little  {'neg': 0.112, 'neu': 0.696, 'pos': 0.191, 'co...   -0.2000   \n",
       "255143    Little  {'neg': 0.0, 'neu': 0.727, 'pos': 0.273, 'comp...    0.6423   \n",
       "130154    Little  {'neg': 0.0, 'neu': 0.44, 'pos': 0.56, 'compou...    0.9248   \n",
       "\n",
       "       sentiment  \n",
       "328028       Pos  \n",
       "155906       Neg  \n",
       "313874       Neu  \n",
       "255143       Pos  \n",
       "130154       Pos  "
      ]
     },
     "execution_count": 107,
     "metadata": {},
     "output_type": "execute_result"
    }
   ],
   "source": [
    "# COMPOUND UPDATE\n",
    "def update_compound(com, score, votes):\n",
    "    if score == 1:\n",
    "        com += 0.1\n",
    "        if votes == 1:\n",
    "            com += 0.4\n",
    "    else:\n",
    "        com -= 0.1\n",
    "        if votes == 1:\n",
    "            com -= 0.4\n",
    "\n",
    "    com = -1 if com < -1 else com\n",
    "    com = 1 if com > 1 else com\n",
    "    com =  0.2 if (score == 1 and com < 0) else com\n",
    "    com = -0.2 if (score == 0 and com > 0) else com\n",
    "    return com\n",
    "#sub['compound'] = sub.apply(lambda row: update_compound(row['compound'], row['review_score'], row['review_votes']), axis=1)\n",
    "#sub['sentiment'] = pd.cut(sub['compound'], [-1,-0.3, 0.3, 1], labels=['Neg', 'Neu', 'Pos'], include_lowest=True)\n",
    "steam['compound'] = steam.apply(lambda row: update_compound(row['compound'], row['review_score'], row['review_votes']), axis=1)\n",
    "steam['sentiment'] = pd.cut(steam['compound'], [-1,-0.3, 0.3, 1], labels=['Neg', 'Neu', 'Pos'], include_lowest=True)\n",
    "sub.head()"
   ]
  },
  {
   "cell_type": "code",
   "execution_count": 3,
   "metadata": {},
   "outputs": [
    {
     "data": {
      "text/html": [
       "<div>\n",
       "<style scoped>\n",
       "    .dataframe tbody tr th:only-of-type {\n",
       "        vertical-align: middle;\n",
       "    }\n",
       "\n",
       "    .dataframe tbody tr th {\n",
       "        vertical-align: top;\n",
       "    }\n",
       "\n",
       "    .dataframe thead th {\n",
       "        text-align: right;\n",
       "    }\n",
       "</style>\n",
       "<table border=\"1\" class=\"dataframe\">\n",
       "  <thead>\n",
       "    <tr style=\"text-align: right;\">\n",
       "      <th></th>\n",
       "      <th>app_id</th>\n",
       "      <th>app_name</th>\n",
       "      <th>review_text</th>\n",
       "      <th>review_score</th>\n",
       "      <th>review_votes</th>\n",
       "      <th>letters_count</th>\n",
       "      <th>tokens</th>\n",
       "      <th>tokens_count</th>\n",
       "      <th>text_size</th>\n",
       "      <th>polarity</th>\n",
       "      <th>compound</th>\n",
       "      <th>sentiment</th>\n",
       "    </tr>\n",
       "  </thead>\n",
       "  <tbody>\n",
       "    <tr>\n",
       "      <th>0</th>\n",
       "      <td>10</td>\n",
       "      <td>Counter-Strike</td>\n",
       "      <td>best shooter ever buy it or regret it</td>\n",
       "      <td>1</td>\n",
       "      <td>0</td>\n",
       "      <td>37</td>\n",
       "      <td>best shooter ever buy regret</td>\n",
       "      <td>5</td>\n",
       "      <td>Little</td>\n",
       "      <td>{'neg': 0.215, 'neu': 0.462, 'pos': 0.323, 'co...</td>\n",
       "      <td>0.4400</td>\n",
       "      <td>Pos</td>\n",
       "    </tr>\n",
       "    <tr>\n",
       "      <th>3671</th>\n",
       "      <td>10</td>\n",
       "      <td>Counter-Strike</td>\n",
       "      <td>best game ever the joy it gives when playing w...</td>\n",
       "      <td>1</td>\n",
       "      <td>0</td>\n",
       "      <td>74</td>\n",
       "      <td>best game ever joy give play friend unbelievable</td>\n",
       "      <td>8</td>\n",
       "      <td>Little</td>\n",
       "      <td>{'neg': 0.0, 'neu': 0.352, 'pos': 0.648, 'comp...</td>\n",
       "      <td>1.0000</td>\n",
       "      <td>Pos</td>\n",
       "    </tr>\n",
       "    <tr>\n",
       "      <th>3670</th>\n",
       "      <td>10</td>\n",
       "      <td>Counter-Strike</td>\n",
       "      <td>was still is and always will be the best onlin...</td>\n",
       "      <td>1</td>\n",
       "      <td>0</td>\n",
       "      <td>61</td>\n",
       "      <td>still always best online fps game ever</td>\n",
       "      <td>7</td>\n",
       "      <td>Little</td>\n",
       "      <td>{'neg': 0.0, 'neu': 0.741, 'pos': 0.259, 'comp...</td>\n",
       "      <td>0.7369</td>\n",
       "      <td>Pos</td>\n",
       "    </tr>\n",
       "    <tr>\n",
       "      <th>3669</th>\n",
       "      <td>10</td>\n",
       "      <td>Counter-Strike</td>\n",
       "      <td>i think every huge counter strike fan should o...</td>\n",
       "      <td>1</td>\n",
       "      <td>0</td>\n",
       "      <td>144</td>\n",
       "      <td>think every huge counter strike fan game begin...</td>\n",
       "      <td>15</td>\n",
       "      <td>Little</td>\n",
       "      <td>{'neg': 0.049, 'neu': 0.724, 'pos': 0.227, 'co...</td>\n",
       "      <td>0.7597</td>\n",
       "      <td>Pos</td>\n",
       "    </tr>\n",
       "    <tr>\n",
       "      <th>3668</th>\n",
       "      <td>10</td>\n",
       "      <td>Counter-Strike</td>\n",
       "      <td>i like this game playing since i was  played a...</td>\n",
       "      <td>1</td>\n",
       "      <td>0</td>\n",
       "      <td>101</td>\n",
       "      <td>like game play since played lot fine graphic s...</td>\n",
       "      <td>12</td>\n",
       "      <td>Little</td>\n",
       "      <td>{'neg': 0.093, 'neu': 0.549, 'pos': 0.359, 'co...</td>\n",
       "      <td>0.7486</td>\n",
       "      <td>Pos</td>\n",
       "    </tr>\n",
       "  </tbody>\n",
       "</table>\n",
       "</div>"
      ],
      "text/plain": [
       "      app_id        app_name  \\\n",
       "0         10  Counter-Strike   \n",
       "3671      10  Counter-Strike   \n",
       "3670      10  Counter-Strike   \n",
       "3669      10  Counter-Strike   \n",
       "3668      10  Counter-Strike   \n",
       "\n",
       "                                            review_text  review_score  \\\n",
       "0                 best shooter ever buy it or regret it             1   \n",
       "3671  best game ever the joy it gives when playing w...             1   \n",
       "3670  was still is and always will be the best onlin...             1   \n",
       "3669  i think every huge counter strike fan should o...             1   \n",
       "3668  i like this game playing since i was  played a...             1   \n",
       "\n",
       "      review_votes  letters_count  \\\n",
       "0                0             37   \n",
       "3671             0             74   \n",
       "3670             0             61   \n",
       "3669             0            144   \n",
       "3668             0            101   \n",
       "\n",
       "                                                 tokens  tokens_count  \\\n",
       "0                          best shooter ever buy regret             5   \n",
       "3671   best game ever joy give play friend unbelievable             8   \n",
       "3670             still always best online fps game ever             7   \n",
       "3669  think every huge counter strike fan game begin...            15   \n",
       "3668  like game play since played lot fine graphic s...            12   \n",
       "\n",
       "     text_size                                           polarity  compound  \\\n",
       "0       Little  {'neg': 0.215, 'neu': 0.462, 'pos': 0.323, 'co...    0.4400   \n",
       "3671    Little  {'neg': 0.0, 'neu': 0.352, 'pos': 0.648, 'comp...    1.0000   \n",
       "3670    Little  {'neg': 0.0, 'neu': 0.741, 'pos': 0.259, 'comp...    0.7369   \n",
       "3669    Little  {'neg': 0.049, 'neu': 0.724, 'pos': 0.227, 'co...    0.7597   \n",
       "3668    Little  {'neg': 0.093, 'neu': 0.549, 'pos': 0.359, 'co...    0.7486   \n",
       "\n",
       "     sentiment  \n",
       "0          Pos  \n",
       "3671       Pos  \n",
       "3670       Pos  \n",
       "3669       Pos  \n",
       "3668       Pos  "
      ]
     },
     "execution_count": 3,
     "metadata": {},
     "output_type": "execute_result"
    }
   ],
   "source": [
    "### LOAD FILE_SENTIMENT\n",
    "# steam.to_csv('sentimented.csv')\n",
    "steam = pd.read_csv(r'sentimented.csv')\n",
    "steam.drop('Unnamed: 0', inplace=True, axis=1)\n",
    "steam = steam.sort_values(\"app_id\")\n",
    "steam.head()"
   ]
  },
  {
   "cell_type": "code",
   "execution_count": 24,
   "metadata": {},
   "outputs": [
    {
     "data": {
      "image/png": "[encoded data removed]",
      "text/plain": [
       "<Figure size 432x288 with 1 Axes>"
      ]
     },
     "metadata": {
      "needs_background": "light"
     },
     "output_type": "display_data"
    }
   ],
   "source": [
    "import seaborn as sns\n",
    "sns.countplot(y='review_score', data=steam, palette=['#D14081',\"#CCF5AC\"]);"
   ]
  },
  {
   "cell_type": "code",
   "execution_count": 111,
   "metadata": {},
   "outputs": [
    {
     "data": {
      "image/png": "[encoded data removed]",
      "text/plain": [
       "<Figure size 432x288 with 1 Axes>"
      ]
     },
     "metadata": {
      "needs_background": "light"
     },
     "output_type": "display_data"
    }
   ],
   "source": [
    "sns.countplot(y='sentiment', data=steam, palette=['#CCF5AC', '#F9F5E3', \"#D14081\"]);"
   ]
  },
  {
   "cell_type": "code",
   "execution_count": 112,
   "metadata": {},
   "outputs": [
    {
     "data": {
      "image/png": "[encoded data removed]",
      "text/plain": [
       "<Figure size 432x288 with 1 Axes>"
      ]
     },
     "metadata": {
      "needs_background": "light"
     },
     "output_type": "display_data"
    }
   ],
   "source": [
    "g = sns.lineplot(x='tokens_count', y='sentiment', data=steam)\n",
    "g.set(xticklabels=[]) \n",
    "g.set(title=\"Sentiment by words' counting\")\n",
    "g.set(xlabel=\"Tokens\")\n",
    "g.set(ylabel=\"Sentiment\")\n",
    "g.tick_params(bottom=False)\n",
    "g.axhline(0, ls='--', c = 'grey');"
   ]
  },
  {
   "cell_type": "code",
   "execution_count": 21,
   "metadata": {},
   "outputs": [],
   "source": [
    "# ALL WORDS FREQUENCY_DIST\n",
    "from nltk.tokenize import word_tokenize\n",
    "from nltk.probability import FreqDist\n",
    "\n",
    "all_tokens = ' '.join([token for token in steam['tokens']])\n",
    "all_tokens = nltk.word_tokenize(all_tokens)\n",
    "\n",
    "fd = FreqDist(all_tokens)\n",
    "top1000 = fd.most_common(1000)"
   ]
  },
  {
   "cell_type": "code",
   "execution_count": 33,
   "metadata": {},
   "outputs": [],
   "source": [
    "# POS FREQUENCY_DIST\n",
    "is_noun = lambda pos: pos[:2] == 'NN'\n",
    "top_nouns = FreqDist()\n",
    "top_adjs = FreqDist()\n",
    "top_verbs = FreqDist()\n",
    "\n",
    "for w in top1000:\n",
    "    pos = nltk.pos_tag(nltk.word_tokenize(w[0]))\n",
    "    tag = pos[0][1]\n",
    "    if tag == 'NN':\n",
    "        top_nouns[w[0]] = w[1]\n",
    "    if tag == 'JJ':\n",
    "        top_adjs[w[0]] = w[1]\n",
    "    if tag == 'VB':\n",
    "        top_verbs[w[0]] = w[1]"
   ]
  },
  {
   "cell_type": "code",
   "execution_count": 34,
   "metadata": {},
   "outputs": [
    {
     "data": {
      "text/plain": [
       "<AxesSubplot:>"
      ]
     },
     "execution_count": 34,
     "metadata": {},
     "output_type": "execute_result"
    },
    {
     "data": {
      "image/png": "[encoded data removed]",
      "text/plain": [
       "<Figure size 432x288 with 1 Axes>"
      ]
     },
     "metadata": {
      "needs_background": "light"
     },
     "output_type": "display_data"
    }
   ],
   "source": [
    "# TOP 20 WORDS\n",
    "top = fd.most_common(20)\n",
    "topS = pd.Series(dict(top))\n",
    "sns.barplot(y=topS.index, x=topS.values, color='#372772')"
   ]
  },
  {
   "cell_type": "code",
   "execution_count": 35,
   "metadata": {},
   "outputs": [
    {
     "data": {
      "text/plain": [
       "<AxesSubplot:>"
      ]
     },
     "execution_count": 35,
     "metadata": {},
     "output_type": "execute_result"
    },
    {
     "data": {
      "image/png": "[encoded data removed]",
      "text/plain": [
       "<Figure size 432x288 with 1 Axes>"
      ]
     },
     "metadata": {
      "needs_background": "light"
     },
     "output_type": "display_data"
    }
   ],
   "source": [
    "# TOP 20 NOUNS\n",
    "top_20n = top_nouns.most_common(20)\n",
    "topS = pd.Series(dict(top_20n))\n",
    "sns.barplot(y=topS.index, x=topS.values, color='#94C595')"
   ]
  },
  {
   "cell_type": "code",
   "execution_count": 36,
   "metadata": {},
   "outputs": [
    {
     "data": {
      "text/plain": [
       "<AxesSubplot:>"
      ]
     },
     "execution_count": 36,
     "metadata": {},
     "output_type": "execute_result"
    },
    {
     "data": {
      "image/png": "[encoded data removed]",
      "text/plain": [
       "<Figure size 432x288 with 1 Axes>"
      ]
     },
     "metadata": {
      "needs_background": "light"
     },
     "output_type": "display_data"
    }
   ],
   "source": [
    "# TOP 20 ADJS\n",
    "top_20a = top_adjs.most_common(20)\n",
    "topS = pd.Series(dict(top_20a))\n",
    "sns.barplot(y=topS.index, x=topS.values, color='#7EE081')"
   ]
  },
  {
   "cell_type": "code",
   "execution_count": 37,
   "metadata": {},
   "outputs": [
    {
     "data": {
      "text/plain": [
       "<AxesSubplot:>"
      ]
     },
     "execution_count": 37,
     "metadata": {},
     "output_type": "execute_result"
    },
    {
     "data": {
      "image/png": "[encoded data removed]",
      "text/plain": [
       "<Figure size 432x288 with 1 Axes>"
      ]
     },
     "metadata": {
      "needs_background": "light"
     },
     "output_type": "display_data"
    }
   ],
   "source": [
    "# TOP 20 VERBS\n",
    "top_20v = top_verbs.most_common(20)\n",
    "topS = pd.Series(dict(top_20v))\n",
    "sns.barplot(y=topS.index, x=topS.values, color='#52AA5E')"
   ]
  },
  {
   "cell_type": "code",
   "execution_count": 38,
   "metadata": {},
   "outputs": [
    {
     "data": {
      "text/html": [
       "<div>\n",
       "<style scoped>\n",
       "    .dataframe tbody tr th:only-of-type {\n",
       "        vertical-align: middle;\n",
       "    }\n",
       "\n",
       "    .dataframe tbody tr th {\n",
       "        vertical-align: top;\n",
       "    }\n",
       "\n",
       "    .dataframe thead th {\n",
       "        text-align: right;\n",
       "    }\n",
       "</style>\n",
       "<table border=\"1\" class=\"dataframe\">\n",
       "  <thead>\n",
       "    <tr style=\"text-align: right;\">\n",
       "      <th></th>\n",
       "      <th>count</th>\n",
       "    </tr>\n",
       "    <tr>\n",
       "      <th>app_name</th>\n",
       "      <th></th>\n",
       "    </tr>\n",
       "  </thead>\n",
       "  <tbody>\n",
       "    <tr>\n",
       "      <th>Dota 2</th>\n",
       "      <td>40687</td>\n",
       "    </tr>\n",
       "    <tr>\n",
       "      <th>Left 4 Dead 2</th>\n",
       "      <td>36679</td>\n",
       "    </tr>\n",
       "    <tr>\n",
       "      <th>Portal 2</th>\n",
       "      <td>29272</td>\n",
       "    </tr>\n",
       "    <tr>\n",
       "      <th>BioShock Infinite</th>\n",
       "      <td>25579</td>\n",
       "    </tr>\n",
       "    <tr>\n",
       "      <th>Garry's Mod</th>\n",
       "      <td>20094</td>\n",
       "    </tr>\n",
       "  </tbody>\n",
       "</table>\n",
       "</div>"
      ],
      "text/plain": [
       "                   count\n",
       "app_name                \n",
       "Dota 2             40687\n",
       "Left 4 Dead 2      36679\n",
       "Portal 2           29272\n",
       "BioShock Infinite  25579\n",
       "Garry's Mod        20094"
      ]
     },
     "execution_count": 38,
     "metadata": {},
     "output_type": "execute_result"
    }
   ],
   "source": [
    "# TOP GAMES\n",
    "games = steam[['app_name']]\n",
    "games = games.groupby('app_name').value_counts().to_frame()\n",
    "games.rename(columns={games.columns[0]: 'count'}, inplace=True)\n",
    "games = games.sort_values('count', ascending=False)\n",
    "\n",
    "games = games.head(10)\n",
    "games.head(10)"
   ]
  },
  {
   "cell_type": "code",
   "execution_count": null,
   "metadata": {},
   "outputs": [],
   "source": [
    "plotd = "
   ]
  },
  {
   "cell_type": "code",
   "execution_count": null,
   "metadata": {},
   "outputs": [],
   "source": [
    "# MEAN SCORE FOR DIFF GAMES\n",
    "# MOST POPULAR GAMES BY WORDS\n",
    "sns.boxplot(x='app_name', y='tokens_count', data=steam)\n",
    "# CHECK GAMES FOR POSITIVE OR NEGATIVE"
   ]
  },
  {
   "cell_type": "code",
   "execution_count": null,
   "metadata": {},
   "outputs": [],
   "source": [
    "# 3D PLOT value_of_positive TO COMMENT_QUANTITY OF GAME\n",
    "# y = steam['value_of_positive']\n",
    "# x = steam['app_id'].count()\n",
    "# plt.scatter(x,y)\n",
    "# plt.title('..')\n",
    "# plt.xlabel(\"Comments' quantity\")\n",
    "# plt.ylabel(\"\")\n"
   ]
  }
 ],
 "metadata": {
  "kernelspec": {
   "display_name": "Python 3.10.4 64-bit",
   "language": "python",
   "name": "python3"
  },
  "language_info": {
   "codemirror_mode": {
    "name": "ipython",
    "version": 3
   },
   "file_extension": ".py",
   "mimetype": "text/x-python",
   "name": "python",
   "nbconvert_exporter": "python",
   "pygments_lexer": "ipython3",
   "version": "3.10.4"
  },
  "orig_nbformat": 4,
  "vscode": {
   "interpreter": {
    "hash": "83f731b0747473ad4ab02ec54a65157c483b840cc40ce4e65928751b24444888"
   }
  }
 },
 "nbformat": 4,
 "nbformat_minor": 2
}
